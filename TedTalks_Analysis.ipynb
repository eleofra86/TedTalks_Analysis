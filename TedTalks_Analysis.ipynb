{
 "cells": [
  {
   "cell_type": "markdown",
   "id": "f9f99255",
   "metadata": {},
   "source": [
    "# Ted Talks Analysis"
   ]
  },
  {
   "cell_type": "markdown",
   "id": "84b338b8",
   "metadata": {},
   "source": [
    "**First, I import the packages I need:**"
   ]
  },
  {
   "cell_type": "code",
   "execution_count": 1,
   "id": "fbf922ed",
   "metadata": {},
   "outputs": [],
   "source": [
    "import pandas as pd\n",
    "import matplotlib as plt\n",
    "import numpy as np"
   ]
  },
  {
   "cell_type": "markdown",
   "id": "1cae6c98",
   "metadata": {},
   "source": [
    "### Import the data in DF"
   ]
  },
  {
   "cell_type": "code",
   "execution_count": 2,
   "id": "c0862f54",
   "metadata": {
    "scrolled": true
   },
   "outputs": [
    {
     "name": "stdout",
     "output_type": "stream",
     "text": [
      "                                               title                author  \\\n",
      "0      Climate action needs new frontline leadership  Ozawa Bineshi Albert   \n",
      "1        The dark history of the overthrow of Hawaii         Sydney Iaukea   \n",
      "2     How play can spark new ideas for your business         Martin Reeves   \n",
      "3  Why is China appointing judges to combat clima...     James K. Thornton   \n",
      "4     Cement's carbon problem — and 2 ways to fix it       Mahendra Singhi   \n",
      "\n",
      "             date   views  likes  \\\n",
      "0   December 2021  404000  12000   \n",
      "1   February 2022  214000   6400   \n",
      "2  September 2021  412000  12000   \n",
      "3    October 2021  427000  12000   \n",
      "4    October 2021    2400     72   \n",
      "\n",
      "                                                link  \n",
      "0  https://ted.com/talks/ozawa_bineshi_albert_cli...  \n",
      "1  https://ted.com/talks/sydney_iaukea_the_dark_h...  \n",
      "2  https://ted.com/talks/martin_reeves_how_play_c...  \n",
      "3  https://ted.com/talks/james_k_thornton_why_is_...  \n",
      "4  https://ted.com/talks/mahendra_singhi_cement_s...  \n"
     ]
    }
   ],
   "source": [
    "ted_data = pd.read_csv('data.csv')\n",
    "print(ted_data.head())"
   ]
  },
  {
   "cell_type": "markdown",
   "id": "077c2f4b",
   "metadata": {},
   "source": [
    "### I inspect the DF"
   ]
  },
  {
   "cell_type": "code",
   "execution_count": 3,
   "id": "b8e14caa",
   "metadata": {},
   "outputs": [
    {
     "name": "stdout",
     "output_type": "stream",
     "text": [
      "(5440, 6)\n",
      "title     object\n",
      "author    object\n",
      "date      object\n",
      "views      int64\n",
      "likes      int64\n",
      "link      object\n",
      "dtype: object\n"
     ]
    }
   ],
   "source": [
    "print(ted_data.shape)\n",
    "print(ted_data.dtypes)"
   ]
  },
  {
   "cell_type": "markdown",
   "id": "11b4d384",
   "metadata": {},
   "source": [
    "I immediatly note that the date column is not in date format. In any case, I could separate the year in a specific column, in order to compare 2021 vs 2022 (or any other year)."
   ]
  },
  {
   "cell_type": "markdown",
   "id": "93455e83",
   "metadata": {},
   "source": [
    "### I separate month and year in two new columns"
   ]
  },
  {
   "cell_type": "code",
   "execution_count": 4,
   "id": "6fa5a3b7",
   "metadata": {},
   "outputs": [
    {
     "name": "stdout",
     "output_type": "stream",
     "text": [
      "                                               title                author  \\\n",
      "0      Climate action needs new frontline leadership  Ozawa Bineshi Albert   \n",
      "1        The dark history of the overthrow of Hawaii         Sydney Iaukea   \n",
      "2     How play can spark new ideas for your business         Martin Reeves   \n",
      "3  Why is China appointing judges to combat clima...     James K. Thornton   \n",
      "4     Cement's carbon problem — and 2 ways to fix it       Mahendra Singhi   \n",
      "\n",
      "             date   views  likes  \\\n",
      "0   December 2021  404000  12000   \n",
      "1   February 2022  214000   6400   \n",
      "2  September 2021  412000  12000   \n",
      "3    October 2021  427000  12000   \n",
      "4    October 2021    2400     72   \n",
      "\n",
      "                                                link      month  year  \n",
      "0  https://ted.com/talks/ozawa_bineshi_albert_cli...   December  2021  \n",
      "1  https://ted.com/talks/sydney_iaukea_the_dark_h...   February  2022  \n",
      "2  https://ted.com/talks/martin_reeves_how_play_c...  September  2021  \n",
      "3  https://ted.com/talks/james_k_thornton_why_is_...    October  2021  \n",
      "4  https://ted.com/talks/mahendra_singhi_cement_s...    October  2021  \n"
     ]
    }
   ],
   "source": [
    "ted_data['str_split'] = ted_data.date.str.split(' ')\n",
    "ted_data['month'] = ted_data.str_split.str.get(0)\n",
    "ted_data['year'] = ted_data.str_split.str.get(1)\n",
    "ted_data.drop('str_split', axis=1, inplace=True)\n",
    "print(ted_data.head())"
   ]
  },
  {
   "cell_type": "markdown",
   "id": "ab3879ed",
   "metadata": {},
   "source": [
    "## 1. How many videos are created each year?"
   ]
  },
  {
   "cell_type": "code",
   "execution_count": 5,
   "id": "409f5428",
   "metadata": {},
   "outputs": [
    {
     "name": "stdout",
     "output_type": "stream",
     "text": [
      "    year  title\n",
      "0   1970      2\n",
      "1   1972      1\n",
      "2   1983      1\n",
      "3   1984      1\n",
      "4   1990      1\n",
      "5   1991      1\n",
      "6   1994      1\n",
      "7   1998      6\n",
      "8   2001      5\n",
      "9   2002     26\n",
      "10  2003     34\n",
      "11  2004     33\n",
      "12  2005     65\n",
      "13  2006     49\n",
      "14  2007    113\n",
      "15  2008     84\n",
      "16  2009    233\n",
      "17  2010    267\n",
      "18  2011    271\n",
      "19  2012    302\n",
      "20  2013    388\n",
      "21  2014    357\n",
      "22  2015    377\n",
      "23  2016    399\n",
      "24  2017    495\n",
      "25  2018    473\n",
      "26  2019    544\n",
      "27  2020    501\n",
      "28  2021    390\n",
      "29  2022     20\n"
     ]
    }
   ],
   "source": [
    "ted_data_year = ted_data.groupby('year').title.count().reset_index()\n",
    "print(ted_data_year)"
   ]
  },
  {
   "cell_type": "markdown",
   "id": "fd5266b2",
   "metadata": {},
   "source": [
    "When I inspected the first rows of the DF, I never could imagine that there were many videos older than 2 years ago. First videos on TED Talks were created in 1970.\n",
    "Interesting thing is that until 2010, the production of videos of TED Talks was not so high and in many years no videos were published.\n",
    "This is a table, but how does it appear if I plot this data?"
   ]
  },
  {
   "cell_type": "code",
   "execution_count": 6,
   "id": "d683372a",
   "metadata": {},
   "outputs": [
    {
     "data": {
      "image/png": "[encoded data removed]",
      "text/plain": [
       "<Figure size 1440x720 with 1 Axes>"
      ]
     },
     "metadata": {
      "needs_background": "light"
     },
     "output_type": "display_data"
    }
   ],
   "source": [
    "from matplotlib import pyplot as plt\n",
    "plt.figure(figsize = (20, 10))\n",
    "plt.bar(ted_data_year.year, ted_data_year.title, color = 'red')\n",
    "plt.title('Numbers of Ted Talks during the years', fontsize = 25)\n",
    "plt.xlabel('Years, from 1970 to 2022', fontsize = 15)\n",
    "plt.ylabel('Nr. of videos', fontsize = 15)\n",
    "plt.show()"
   ]
  },
  {
   "cell_type": "markdown",
   "id": "4973b997",
   "metadata": {},
   "source": [
    "## 2. Like and views distributions"
   ]
  },
  {
   "cell_type": "markdown",
   "id": "a8ee5c9c",
   "metadata": {},
   "source": [
    "How are likes and views distributions? Normal distributions? Skewed (left or right)? Let's investigate..."
   ]
  },
  {
   "cell_type": "code",
   "execution_count": 8,
   "id": "e8fad906",
   "metadata": {},
   "outputs": [
    {
     "data": {
      "image/png": "[encoded data removed]",
      "text/plain": [
       "<Figure size 432x288 with 1 Axes>"
      ]
     },
     "metadata": {
      "needs_background": "light"
     },
     "output_type": "display_data"
    }
   ],
   "source": [
    "plt.hist(ted_data.views, bins = 20, color = 'red')\n",
    "plt.show()"
   ]
  },
  {
   "cell_type": "markdown",
   "id": "b9bf4310",
   "metadata": {},
   "source": [
    "I immediatly note that most videos have between 0 and 10.000.000 views, but this histogram is not clear, because there are many outliers. So, I create an histogram only taking the more popular portion of dataset."
   ]
  },
  {
   "cell_type": "code",
   "execution_count": 9,
   "id": "483c76d3",
   "metadata": {},
   "outputs": [
    {
     "data": {
      "image/png": "[encoded data removed]",
      "text/plain": [
       "<Figure size 432x288 with 1 Axes>"
      ]
     },
     "metadata": {
      "needs_background": "light"
     },
     "output_type": "display_data"
    }
   ],
   "source": [
    "plt.hist(ted_data.views, bins = 20, range = (50000, 10000000), color = 'red')\n",
    "plt.show()"
   ]
  },
  {
   "cell_type": "markdown",
   "id": "f4d9ac94",
   "metadata": {},
   "source": [
    "I've analyzed only videos from 50k to 5 million views. In any case, the distribution is skew-right and is not unimodal, because we can see 3 peaks."
   ]
  },
  {
   "cell_type": "code",
   "execution_count": 10,
   "id": "17b138f5",
   "metadata": {},
   "outputs": [
    {
     "data": {
      "image/png": "[encoded data removed]",
      "text/plain": [
       "<Figure size 432x288 with 1 Axes>"
      ]
     },
     "metadata": {
      "needs_background": "light"
     },
     "output_type": "display_data"
    }
   ],
   "source": [
    "plt.hist(ted_data.views, bins = 20, range = (50000, 5000000), color = 'red')\n",
    "plt.show()"
   ]
  },
  {
   "cell_type": "code",
   "execution_count": 11,
   "id": "2271c9aa",
   "metadata": {},
   "outputs": [
    {
     "data": {
      "image/png": "[encoded data removed]",
      "text/plain": [
       "<Figure size 432x288 with 1 Axes>"
      ]
     },
     "metadata": {
      "needs_background": "light"
     },
     "output_type": "display_data"
    }
   ],
   "source": [
    "plt.hist(ted_data.likes, bins = 20, color = 'red')\n",
    "plt.show()"
   ]
  },
  {
   "cell_type": "markdown",
   "id": "14f89053",
   "metadata": {},
   "source": [
    "I notice that we have the same \"problem\" with likes. Most videos have between 0 and 500.000 likes, but this histogram is not clear, because there are many outliers. So, I create an histogram only taking the more popular portion of dataset."
   ]
  },
  {
   "cell_type": "code",
   "execution_count": 12,
   "id": "1bbdd41b",
   "metadata": {
    "scrolled": true
   },
   "outputs": [
    {
     "data": {
      "image/png": "[encoded data removed]",
      "text/plain": [
       "<Figure size 432x288 with 1 Axes>"
      ]
     },
     "metadata": {
      "needs_background": "light"
     },
     "output_type": "display_data"
    }
   ],
   "source": [
    "plt.hist(ted_data.likes, bins = 20, range = (50000, 500000), color = 'red')\n",
    "plt.show()"
   ]
  },
  {
   "cell_type": "markdown",
   "id": "a31b9b59",
   "metadata": {},
   "source": [
    "I've analyzed only videos from 0 to 500k likes. In any case, the distribution is skew-right but is unimodal. In fact, most videos have up to 50.000 likes and are in the first bin of the histogram."
   ]
  },
  {
   "cell_type": "markdown",
   "id": "d7f35529",
   "metadata": {},
   "source": [
    "I can invest if there is a relationship between the number of views and number of likes of a TED Talks videos. Is there?"
   ]
  },
  {
   "cell_type": "code",
   "execution_count": 13,
   "id": "b6ad9d99",
   "metadata": {},
   "outputs": [
    {
     "data": {
      "image/png": "[encoded data removed]",
      "text/plain": [
       "<Figure size 432x288 with 1 Axes>"
      ]
     },
     "metadata": {
      "needs_background": "light"
     },
     "output_type": "display_data"
    }
   ],
   "source": [
    "import seaborn as sns\n",
    "sns.scatterplot(data = ted_data, x = 'views', y = 'likes', color = 'red')\n",
    "plt.xlabel('Number of views')\n",
    "plt.ylabel('Number of likes')\n",
    "plt.show()"
   ]
  },
  {
   "cell_type": "markdown",
   "id": "635f1029",
   "metadata": {},
   "source": [
    "It's clear that YES, there is a linear relationship between the two variables. Most views, most likes.\n",
    "It could be confirmed with covariance calculations:"
   ]
  },
  {
   "cell_type": "code",
   "execution_count": 14,
   "id": "75da22cc",
   "metadata": {},
   "outputs": [
    {
     "name": "stdout",
     "output_type": "stream",
     "text": [
      "[[1.27241865e+13 3.83856396e+11]\n",
      " [3.83856396e+11 1.15878270e+10]]\n"
     ]
    }
   ],
   "source": [
    "cov_views_likes = np.cov(ted_data.views, ted_data.likes)\n",
    "print(cov_views_likes)"
   ]
  },
  {
   "cell_type": "code",
   "execution_count": 15,
   "id": "0e651e09",
   "metadata": {},
   "outputs": [
    {
     "name": "stdout",
     "output_type": "stream",
     "text": [
      "0.9996610444062042\n"
     ]
    }
   ],
   "source": [
    "from scipy.stats import pearsonr\n",
    "corr_views_likes, p = pearsonr(ted_data.views, ted_data.likes)\n",
    "print(corr_views_likes)"
   ]
  },
  {
   "cell_type": "markdown",
   "id": "ed1a34f5",
   "metadata": {},
   "source": [
    "As we can see in both calculations, there is a STRONG linear relationship between the two variables, as already viewed in the scatterplot."
   ]
  },
  {
   "cell_type": "markdown",
   "id": "e039c388",
   "metadata": {},
   "source": [
    "## 3. Which is the most popular video?"
   ]
  },
  {
   "cell_type": "code",
   "execution_count": 16,
   "id": "f21228be",
   "metadata": {},
   "outputs": [
    {
     "name": "stdout",
     "output_type": "stream",
     "text": [
      "The video with most views has  72000000  views and it is: \n",
      "   index                        title            author           date  \\\n",
      "0   5436  Do schools kill creativity?  Sir Ken Robinson  February 2006   \n",
      "\n",
      "      views    likes                                               link  \\\n",
      "0  72000000  2100000  https://ted.com/talks/sir_ken_robinson_do_scho...   \n",
      "\n",
      "      month  year  \n",
      "0  February  2006  \n"
     ]
    }
   ],
   "source": [
    "best_video_views = ted_data.views.max()\n",
    "\n",
    "best_video_title = ted_data[ted_data.views == ted_data.views.max()].reset_index()\n",
    "\n",
    "print('The video with most views has ', best_video_views, ' views and it is: ')\n",
    "print(best_video_title)"
   ]
  },
  {
   "cell_type": "markdown",
   "id": "7b52c765",
   "metadata": {},
   "source": [
    "How many views has the most viewed video each year?"
   ]
  },
  {
   "cell_type": "code",
   "execution_count": 17,
   "id": "9966b2c9",
   "metadata": {},
   "outputs": [
    {
     "name": "stdout",
     "output_type": "stream",
     "text": [
      "    year     views\n",
      "0   1970    192000\n",
      "1   1972   1300000\n",
      "2   1983    690000\n",
      "3   1984   1100000\n",
      "4   1990    723000\n",
      "5   1991    327000\n",
      "6   1994    699000\n",
      "7   1998   3800000\n",
      "8   2001   7000000\n",
      "9   2002   6400000\n",
      "10  2003   7100000\n",
      "11  2004  19000000\n",
      "12  2005  16000000\n",
      "13  2006  72000000\n",
      "14  2007  16000000\n",
      "15  2008  28000000\n",
      "16  2009  57000000\n",
      "17  2010  56000000\n",
      "18  2011  31000000\n",
      "19  2012  64000000\n",
      "20  2013  49000000\n",
      "21  2014  22000000\n",
      "22  2015  43000000\n",
      "23  2016  60000000\n",
      "24  2017  28000000\n",
      "25  2018  14000000\n",
      "26  2019  15000000\n",
      "27  2020   8600000\n",
      "28  2021  10000000\n",
      "29  2022   2300000\n"
     ]
    }
   ],
   "source": [
    "best_video_per_year = ted_data.groupby('year').views.max().reset_index()\n",
    "print(best_video_per_year)"
   ]
  },
  {
   "cell_type": "markdown",
   "id": "d4fe96cc",
   "metadata": {},
   "source": [
    "But... which videos are these? I use SQL in Python to investigate..."
   ]
  },
  {
   "cell_type": "code",
   "execution_count": 18,
   "id": "0a4dc051",
   "metadata": {},
   "outputs": [
    {
     "name": "stdout",
     "output_type": "stream",
     "text": [
      "                                                title               author  \\\n",
      "0                         Do schools kill creativity?     Sir Ken Robinson   \n",
      "1            Your body language may shape who you are            Amy Cuddy   \n",
      "2          Inside the mind of a master procrastinator            Tim Urban   \n",
      "3                    How great leaders inspire action          Simon Sinek   \n",
      "4                          The power of vulnerability          Brené Brown   \n",
      "5          How to speak so that people want to listen      Julian Treasure   \n",
      "6                  The next outbreak? We're not ready           Bill Gates   \n",
      "7                                  How to spot a liar         Pamela Meyer   \n",
      "8              The future we're building — and boring            Elon Musk   \n",
      "9                                My stroke of insight    Jill Bolte Taylor   \n",
      "10                         The Infinite Hotel Paradox        Jeff Dekofsky   \n",
      "11                The surprising science of happiness          Dan Gilbert   \n",
      "12                           Underwater astonishments          David Gallo   \n",
      "13                              The paradox of choice       Barry Schwartz   \n",
      "14                           Sleep is your superpower          Matt Walker   \n",
      "15                 How do cigarettes affect the body?       Krishna Sudhir   \n",
      "16  What causes dandruff, and how do you get rid o...     Thomas L. Dawson   \n",
      "17    How we must respond to the coronavirus pandemic           Bill Gates   \n",
      "18                    How to get your ideas to spread           Seth Godin   \n",
      "19      The difference between winning and succeeding          John Wooden   \n",
      "20                                   Militant atheism      Richard Dawkins   \n",
      "21                            On technology and faith         Billy Graham   \n",
      "22                  Why do cats have vertical pupils?           Emma Bryce   \n",
      "23                              Why believe in others        Viktor Frankl   \n",
      "24                           5 predictions, from 1984  Nicholas Negroponte   \n",
      "25                           My days as a young rebel          Frank Gehry   \n",
      "26                       Back to the future (of 1994)         Danny Hillis   \n",
      "27                          Physics is fun to imagine      Richard Feynman   \n",
      "28                         Growing up in the universe      Richard Dawkins   \n",
      "29                  Love letters to what we hold dear       Debbie Millman   \n",
      "\n",
      "    year  MAX(views)  \n",
      "0   2006    72000000  \n",
      "1   2012    64000000  \n",
      "2   2016    60000000  \n",
      "3   2009    57000000  \n",
      "4   2010    56000000  \n",
      "5   2013    49000000  \n",
      "6   2015    43000000  \n",
      "7   2011    31000000  \n",
      "8   2017    28000000  \n",
      "9   2008    28000000  \n",
      "10  2014    22000000  \n",
      "11  2004    19000000  \n",
      "12  2007    16000000  \n",
      "13  2005    16000000  \n",
      "14  2019    15000000  \n",
      "15  2018    14000000  \n",
      "16  2021    10000000  \n",
      "17  2020     8600000  \n",
      "18  2003     7100000  \n",
      "19  2001     7000000  \n",
      "20  2002     6400000  \n",
      "21  1998     3800000  \n",
      "22  2022     2300000  \n",
      "23  1972     1300000  \n",
      "24  1984     1100000  \n",
      "25  1990      723000  \n",
      "26  1994      699000  \n",
      "27  1983      690000  \n",
      "28  1991      327000  \n",
      "29  1970      192000  \n"
     ]
    }
   ],
   "source": [
    "import sqldf\n",
    "query = \"\"\"\n",
    "SELECT title, author, year, MAX(views) FROM ted_data\n",
    "GROUP BY year\n",
    "ORDER BY MAX(views) desc;\n",
    "\"\"\"\n",
    "df_view = sqldf.run(query)\n",
    "print(df_view)"
   ]
  },
  {
   "cell_type": "markdown",
   "id": "5666a87f",
   "metadata": {},
   "source": [
    "And, what about the most liked videos for each year? Let's see..."
   ]
  },
  {
   "cell_type": "code",
   "execution_count": 19,
   "id": "0ceaefa5",
   "metadata": {},
   "outputs": [
    {
     "name": "stdout",
     "output_type": "stream",
     "text": [
      "                                                title               author  \\\n",
      "0                         Do schools kill creativity?     Sir Ken Robinson   \n",
      "1            Your body language may shape who you are            Amy Cuddy   \n",
      "2          Inside the mind of a master procrastinator            Tim Urban   \n",
      "3                    How great leaders inspire action          Simon Sinek   \n",
      "4                          The power of vulnerability          Brené Brown   \n",
      "5          How to speak so that people want to listen      Julian Treasure   \n",
      "6                  The next outbreak? We're not ready           Bill Gates   \n",
      "7                                  How to spot a liar         Pamela Meyer   \n",
      "8              The future we're building — and boring            Elon Musk   \n",
      "9                                My stroke of insight    Jill Bolte Taylor   \n",
      "10                         The Infinite Hotel Paradox        Jeff Dekofsky   \n",
      "11                The surprising science of happiness          Dan Gilbert   \n",
      "12                           Underwater astonishments          David Gallo   \n",
      "13                              The paradox of choice       Barry Schwartz   \n",
      "14                           Sleep is your superpower          Matt Walker   \n",
      "15                 How do cigarettes affect the body?       Krishna Sudhir   \n",
      "16  What causes dandruff, and how do you get rid o...     Thomas L. Dawson   \n",
      "17    How we must respond to the coronavirus pandemic           Bill Gates   \n",
      "18                    How to get your ideas to spread           Seth Godin   \n",
      "19      The difference between winning and succeeding          John Wooden   \n",
      "20                                   Militant atheism      Richard Dawkins   \n",
      "21                            On technology and faith         Billy Graham   \n",
      "22                  Why do cats have vertical pupils?           Emma Bryce   \n",
      "23                              Why believe in others        Viktor Frankl   \n",
      "24                           5 predictions, from 1984  Nicholas Negroponte   \n",
      "25                           My days as a young rebel          Frank Gehry   \n",
      "26                       Back to the future (of 1994)         Danny Hillis   \n",
      "27                          Physics is fun to imagine      Richard Feynman   \n",
      "28                         Growing up in the universe      Richard Dawkins   \n",
      "29                  Love letters to what we hold dear       Debbie Millman   \n",
      "\n",
      "    year  MAX(likes)  \n",
      "0   2006     2100000  \n",
      "1   2012     1900000  \n",
      "2   2016     1800000  \n",
      "3   2009     1700000  \n",
      "4   2010     1700000  \n",
      "5   2013     1400000  \n",
      "6   2015     1300000  \n",
      "7   2011      953000  \n",
      "8   2017      849000  \n",
      "9   2008      844000  \n",
      "10  2014      671000  \n",
      "11  2004      598000  \n",
      "12  2007      490000  \n",
      "13  2005      501000  \n",
      "14  2019      450000  \n",
      "15  2018      435000  \n",
      "16  2021      315000  \n",
      "17  2020      259000  \n",
      "18  2003      214000  \n",
      "19  2001      210000  \n",
      "20  2002      192000  \n",
      "21  1998      116000  \n",
      "22  2022       70000  \n",
      "23  1972       41000  \n",
      "24  1984       33000  \n",
      "25  1990       21000  \n",
      "26  1994       20000  \n",
      "27  1983       20000  \n",
      "28  1991        9800  \n",
      "29  1970        5700  \n"
     ]
    }
   ],
   "source": [
    "query = \"\"\"\n",
    "SELECT title, author, year, MAX(likes) FROM ted_data\n",
    "GROUP BY year\n",
    "ORDER BY MAX(views) desc;\n",
    "\"\"\"\n",
    "df_like = sqldf.run(query)\n",
    "print(df_like)"
   ]
  },
  {
   "cell_type": "markdown",
   "id": "4812420d",
   "metadata": {},
   "source": [
    "### 4. What about the authors? How many authors created videos TED Talks? Are someone created more than 1 video?"
   ]
  },
  {
   "cell_type": "code",
   "execution_count": 20,
   "id": "470d0a73",
   "metadata": {},
   "outputs": [
    {
     "name": "stdout",
     "output_type": "stream",
     "text": [
      "                author  title\n",
      "148       Alex Gendler     45\n",
      "1781  Iseult Gillespie     33\n",
      "2845       Matt Walker     18\n",
      "152     Alex Rosenthal     15\n",
      "1283     Elizabeth Cox     13\n",
      "...                ...    ...\n",
      "1582        Gill Hicks      1\n",
      "1583      Gillian Gibb      1\n",
      "1584      Gina Brillon      1\n",
      "1585        Gina Cooke      1\n",
      "4442       Özlem Cekic      1\n",
      "\n",
      "[4443 rows x 2 columns]\n"
     ]
    }
   ],
   "source": [
    "authors = ted_data.groupby('author').title.count().reset_index()\n",
    "authors = authors.sort_values(by=['title'], ascending=False)\n",
    "print(authors)"
   ]
  },
  {
   "cell_type": "markdown",
   "id": "ce207457",
   "metadata": {},
   "source": [
    "We can see that there are only 4.443 authors that globally created 5.440 videos.\n",
    "Many of them, created only few videos (up to 5) and few of them created more than 5 videos.\n",
    "Let's investigate..."
   ]
  },
  {
   "cell_type": "code",
   "execution_count": 21,
   "id": "68b42ba0",
   "metadata": {},
   "outputs": [
    {
     "name": "stdout",
     "output_type": "stream",
     "text": [
      "                        author  title\n",
      "3991            Steven Johnson      5\n",
      "2457  Kristen Bell + Giant Ant      5\n",
      "1423                Eve Ensler      5\n",
      "3145       Nicholas Negroponte      5\n",
      "3902          Sir Ken Robinson      5\n",
      "...                        ...    ...\n",
      "1582                Gill Hicks      1\n",
      "1583              Gillian Gibb      1\n",
      "1584              Gina Brillon      1\n",
      "1585                Gina Cooke      1\n",
      "4442               Özlem Cekic      1\n",
      "\n",
      "[4416 rows x 2 columns]\n"
     ]
    }
   ],
   "source": [
    "authors_1_5 = authors.loc[authors['title'] < 6]\n",
    "print(authors_1_5)"
   ]
  },
  {
   "cell_type": "markdown",
   "id": "ccc1eb1d",
   "metadata": {},
   "source": [
    "That's the situations: 4.416 authors created at least 1 but no more than 5 videos."
   ]
  },
  {
   "cell_type": "code",
   "execution_count": 22,
   "id": "2a0391e5",
   "metadata": {},
   "outputs": [
    {
     "name": "stdout",
     "output_type": "stream",
     "text": [
      "                    author  title\n",
      "148           Alex Gendler     45\n",
      "1781      Iseult Gillespie     33\n",
      "2845           Matt Walker     18\n",
      "152         Alex Rosenthal     15\n",
      "1283         Elizabeth Cox     13\n",
      "1338            Emma Bryce     12\n",
      "962          Daniel Finkel     11\n",
      "2216         Juan Enriquez     11\n",
      "933             Dan Finkel      9\n",
      "1655          Hans Rosling      9\n",
      "4338      Wendy De La Rosa      9\n",
      "1609             Greg Gage      9\n",
      "3029          Mona Chalabi      9\n",
      "1962            Jen Gunter      9\n",
      "544             Bill Gates      8\n",
      "2729         Marco Tempest      7\n",
      "31                  TED-Ed      7\n",
      "943           Dan Kwartler      7\n",
      "1821  Jacqueline Novogratz      6\n",
      "2213               Joy Lin      6\n",
      "923             Dan Ariely      6\n",
      "1433         Fabio Pacucci      6\n",
      "3557                 Rives      6\n",
      "3930   Soraya Field Fiorio      6\n",
      "111                Al Gore      6\n",
      "776         Chris Anderson      6\n",
      "40             A.J. Jacobs      6\n"
     ]
    }
   ],
   "source": [
    "authors_more_5 = authors.loc[authors['title'] > 5]\n",
    "print(authors_more_5)"
   ]
  },
  {
   "cell_type": "markdown",
   "id": "e9dfb575",
   "metadata": {},
   "source": [
    "27 authors created more than 5 videos. We can notice that the most productive author is Alex Gendler that created 45 videos!"
   ]
  }
 ],
 "metadata": {
  "kernelspec": {
   "display_name": "Python 3 (ipykernel)",
   "language": "python",
   "name": "python3"
  },
  "language_info": {
   "codemirror_mode": {
    "name": "ipython",
    "version": 3
   },
   "file_extension": ".py",
   "mimetype": "text/x-python",
   "name": "python",
   "nbconvert_exporter": "python",
   "pygments_lexer": "ipython3",
   "version": "3.9.5"
  }
 },
 "nbformat": 4,
 "nbformat_minor": 5
}
